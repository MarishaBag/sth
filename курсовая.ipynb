{
 "cells": [
  {
   "cell_type": "code",
   "execution_count": 1,
   "id": "193518eb",
   "metadata": {},
   "outputs": [],
   "source": [
    "from random import randint\n",
    "import random\n",
    "import math"
   ]
  },
  {
   "cell_type": "code",
   "execution_count": 38,
   "id": "36dd4e92",
   "metadata": {},
   "outputs": [],
   "source": [
    "m = randint(2,2)\n",
    "n = randint(2,2)\n",
    "r = randint(2,2)\n",
    "s = randint(2,2)"
   ]
  },
  {
   "cell_type": "markdown",
   "id": "bfdfec93",
   "metadata": {},
   "source": [
    "<h3>Функция создания 1-й матрицы</h3>"
   ]
  },
  {
   "cell_type": "code",
   "execution_count": 10,
   "id": "c0bc0d31",
   "metadata": {},
   "outputs": [],
   "source": [
    "def create_matrix1(m,n):\n",
    "    arr1 = []\n",
    "    for i in range(m):\n",
    "        temp_arr = []\n",
    "        for j in range (n):\n",
    "            sl = randint(0,9)\n",
    "            temp_arr.append(sl)\n",
    "        arr1.append(temp_arr)\n",
    "   # print('Строки и столбцы матрицы 1 соответсвенно равны',m,'и',n)\n",
    "   # for arr in arr1:\n",
    "    #    print(arr)\n",
    "    return arr1\n"
   ]
  },
  {
   "cell_type": "markdown",
   "id": "60e9d12e",
   "metadata": {},
   "source": [
    "<h3>Функция создания 2-й матрицы</h3>"
   ]
  },
  {
   "cell_type": "code",
   "execution_count": 11,
   "id": "4e4015ec",
   "metadata": {},
   "outputs": [],
   "source": [
    "def create_matrix2(r,s):\n",
    "    arr2 = []\n",
    "    for i in range(r):\n",
    "        temp_arr = []\n",
    "        \n",
    "        for j in range (s):\n",
    "            sl = randint(0,9)\n",
    "            temp_arr.append(sl)\n",
    "        arr2.append(temp_arr)\n",
    "    #for arr in arr2:\n",
    "    #    print(arr)\n",
    "    return arr2\n"
   ]
  },
  {
   "cell_type": "markdown",
   "id": "de9061c7",
   "metadata": {},
   "source": [
    "<h3>Функция умножения</h3>"
   ]
  },
  {
   "cell_type": "code",
   "execution_count": 12,
   "id": "3f75db07",
   "metadata": {},
   "outputs": [],
   "source": [
    "def multiply(matrix1,matrix2):\n",
    "    c = []\n",
    "    if len(matrix1[0]) != len(matrix2):\n",
    "        print('умножение невозможно, количество столбцов 1й матрицы не равно количеству строк 2й матрицы')\n",
    "        return 0\n",
    "    else:\n",
    "        for i in range(0,len(matrix1)):\n",
    "            temp=[]\n",
    "            for j in range(0,len(matrix2[0])):\n",
    "                s = 0\n",
    "                for k in range(0,len(matrix1[0])):\n",
    "                    s += matrix1[i][k]*matrix2[k][j]\n",
    "                temp.append(s)\n",
    "            c.append(temp)\n",
    "        return c    \n"
   ]
  },
  {
   "cell_type": "markdown",
   "id": "2bd81350",
   "metadata": {},
   "source": [
    "<h3>Функция вычисления определителя</h3>"
   ]
  },
  {
   "cell_type": "code",
   "execution_count": 13,
   "id": "115b5851",
   "metadata": {},
   "outputs": [],
   "source": [
    "def det1(matrix1, u):\n",
    "    row = len(matrix1)\n",
    "    col = len(matrix1[0])\n",
    "    if row != col:\n",
    "        print('невозможно вычислить определитель, матрица неквадратная, программа выведет 0')\n",
    "        return 0\n",
    "    else:\n",
    "        if row == 1:\n",
    "            return u * matrix1[0][0]\n",
    "        else:\n",
    "            sign = -1\n",
    "            answer = 0\n",
    "            for i in range(row):\n",
    "                m = []\n",
    "                for j in range(1, row):\n",
    "                    buff = []\n",
    "                    for k in range(row):\n",
    "                        if k != i:\n",
    "                            buff.append(matrix1[j][k])\n",
    "                    m.append(buff)\n",
    "                sign *= -1\n",
    "                answer = answer +  1 * det1(m, sign * matrix1[0][i])\n",
    "    return answer"
   ]
  },
  {
   "cell_type": "markdown",
   "id": "051ebeda",
   "metadata": {},
   "source": [
    "<h3>Функция транспонирования</h3>"
   ]
  },
  {
   "cell_type": "code",
   "execution_count": 14,
   "id": "fb531449",
   "metadata": {},
   "outputs": [],
   "source": [
    "def transpose(matrix1, matrix2, determinate1, determinate2):\n",
    "    if determinate1>determinate2:\n",
    "        print('транспонированная матрица 1')\n",
    "        rez = [[matrix1[j][i] for j in range(len(matrix1))] for i in range(len(matrix1[0]))]\n",
    "        print(\"\\n\")\n",
    "        for row in rez:\n",
    "            print(row)\n",
    "    else:\n",
    "        print('транспонированная матрица 2')\n",
    "        rez = [[matrix2[j][i] for j in range(len(matrix2))] for i in range(len(matrix2[0]))]\n",
    "        print(\"\\n\")\n",
    "        for row in rez:\n",
    "            print(row)\n"
   ]
  },
  {
   "cell_type": "markdown",
   "id": "9366b5db",
   "metadata": {},
   "source": [
    "<h3>Проверка</h3>"
   ]
  },
  {
   "cell_type": "code",
   "execution_count": 39,
   "id": "763548db",
   "metadata": {},
   "outputs": [
    {
     "name": "stdout",
     "output_type": "stream",
     "text": [
      "матрица 2 * 2\n",
      "[5, 1]\n",
      "[3, 0]\n",
      "\n",
      "\n",
      "матрица 2 * 2\n",
      "[8, 1]\n",
      "[0, 3]\n"
     ]
    }
   ],
   "source": [
    "matrix1 = create_matrix1(m,n)    \n",
    "matrix2 = create_matrix2(r,s)\n",
    "\n",
    "print('матрица',m,'*',n)\n",
    "for arr in matrix1:\n",
    "    print(arr)\n",
    "\n",
    "print('\\n')\n",
    "    \n",
    "print('матрица',r,'*',s)\n",
    "for arr in matrix2:\n",
    "    print(arr)\n"
   ]
  },
  {
   "cell_type": "code",
   "execution_count": 40,
   "id": "46030be1",
   "metadata": {},
   "outputs": [
    {
     "name": "stdout",
     "output_type": "stream",
     "text": [
      "Результат умножения:\n",
      "[40, 8]\n",
      "[24, 3]\n"
     ]
    }
   ],
   "source": [
    "print('Результат умножения:')\n",
    "for arr in multiply(matrix1, matrix2):\n",
    "    print(arr)"
   ]
  },
  {
   "cell_type": "code",
   "execution_count": 41,
   "id": "26a17e8f",
   "metadata": {},
   "outputs": [
    {
     "name": "stdout",
     "output_type": "stream",
     "text": [
      "Определитель 1-й матрицы равен\n",
      "-3\n",
      "Определитель 2-й матрицы равен\n",
      "24\n"
     ]
    }
   ],
   "source": [
    "print('Определитель 1-й матрицы равен')\n",
    "print( det1(matrix1, 1))\n",
    "\n",
    "print('Определитель 2-й матрицы равен')\n",
    "print( det1(matrix2, 1))"
   ]
  },
  {
   "cell_type": "code",
   "execution_count": 44,
   "id": "e0c0954f",
   "metadata": {},
   "outputs": [
    {
     "name": "stdout",
     "output_type": "stream",
     "text": [
      "транспонированная матрица 2\n",
      "\n",
      "\n",
      "[8, 0]\n",
      "[1, 3]\n"
     ]
    }
   ],
   "source": [
    "#транспонировать матрицу с большим определителем\n",
    "transpose(matrix1, matrix2, det1(matrix1, 1), det1(matrix2, 1))"
   ]
  },
  {
   "cell_type": "code",
   "execution_count": null,
   "id": "00d092b5",
   "metadata": {},
   "outputs": [],
   "source": []
  }
 ],
 "metadata": {
  "kernelspec": {
   "display_name": "Python 3 (ipykernel)",
   "language": "python",
   "name": "python3"
  },
  "language_info": {
   "codemirror_mode": {
    "name": "ipython",
    "version": 3
   },
   "file_extension": ".py",
   "mimetype": "text/x-python",
   "name": "python",
   "nbconvert_exporter": "python",
   "pygments_lexer": "ipython3",
   "version": "3.7.9"
  }
 },
 "nbformat": 4,
 "nbformat_minor": 5
}
